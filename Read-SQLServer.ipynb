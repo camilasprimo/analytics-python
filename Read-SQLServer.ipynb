{
 "cells": [
  {
   "cell_type": "markdown",
   "id": "6c8e224b",
   "metadata": {},
   "source": [
    "#### Passo a passo de como retornar consultas do banco de dados SQL Server\n",
    "###### (1) Instalar primeiro o ODBC do Sql Server: https://learn.microsoft.com/en-us/sql/connect/odbc/download-odbc-driver-for-sql-server?view=sql-server-ver17\n",
    "###### (2) Para execução de querys e conexão, utilizar Pandas e Pyodbc"
   ]
  },
  {
   "cell_type": "code",
   "execution_count": 1,
   "id": "7ee264a7",
   "metadata": {},
   "outputs": [],
   "source": [
    "# instalação das bibliotecas\n",
    "\n",
    "#!pip install pyodbc sqlalchemy\n",
    "#!pip install pandas pyodbc sqlalchemy\n",
    "#!pip install openpyxl\n",
    "\n",
    "# importando as bibliotecas\n",
    "\n",
    "import pyodbc\n",
    "import pandas as pd"
   ]
  },
  {
   "cell_type": "markdown",
   "id": "4837032e",
   "metadata": {},
   "source": [
    "##### Parâmetros da conexão"
   ]
  },
  {
   "cell_type": "code",
   "execution_count": 2,
   "id": "f5998577",
   "metadata": {},
   "outputs": [
    {
     "name": "stdout",
     "output_type": "stream",
     "text": [
      "Conexão com o banco de dados realizada com sucesso! ;)\n"
     ]
    }
   ],
   "source": [
    "# parâmetros de conexão\n",
    "server = \"DESKTOP-N7M9IQM\"   # nome do servidor que aparece no SSMS\n",
    "database = \"AdventureWorksDW2022\"  # escolha o banco\n",
    "driver = \"ODBC Driver 17 for SQL Server\"  # ou 18, se instalado\n",
    "\n",
    "# conexão via autenticação do Windows\n",
    "try:\n",
    "    conn = pyodbc.connect(\n",
    "        f\"DRIVER={{{driver}}};\"\n",
    "        f\"SERVER={server};\"\n",
    "        f\"DATABASE={database};\"\n",
    "        \"Trusted_Connection=yes;\"\n",
    "    )\n",
    "    print(\"Conexão com o banco de dados realizada com sucesso! ;)\")\n",
    "except Exception as e:\n",
    "    print(\"Erro ao conectar ao banco de dados:\", e)\n"
   ]
  },
  {
   "cell_type": "code",
   "execution_count": 3,
   "id": "ee0da433",
   "metadata": {},
   "outputs": [
    {
     "name": "stdout",
     "output_type": "stream",
     "text": [
      "Esse banco de dados tem 31 tabelas.\n"
     ]
    }
   ],
   "source": [
    "cursor = conn.cursor()\n",
    "cursor.execute(\"SELECT COUNT(*) FROM sys.tables;\")\n",
    "qtd = cursor.fetchone()[0]\n",
    "\n",
    "print(f\"Esse banco de dados tem {qtd} tabelas.\")"
   ]
  },
  {
   "cell_type": "markdown",
   "id": "64dfdf7f",
   "metadata": {},
   "source": [
    "#### Query para lermos o nome da tabelas"
   ]
  },
  {
   "cell_type": "code",
   "execution_count": 4,
   "id": "0b5e29d7",
   "metadata": {},
   "outputs": [
    {
     "data": {
      "text/plain": [
       "['DatabaseLog',\n",
       " 'AdventureWorksDWBuildVersion',\n",
       " 'DimAccount',\n",
       " 'DimCurrency',\n",
       " 'DimCustomer',\n",
       " 'DimDate',\n",
       " 'DimDepartmentGroup',\n",
       " 'DimEmployee',\n",
       " 'DimGeography',\n",
       " 'DimOrganization',\n",
       " 'DimProduct',\n",
       " 'DimProductCategory',\n",
       " 'DimProductSubcategory',\n",
       " 'DimPromotion',\n",
       " 'DimReseller',\n",
       " 'DimSalesReason',\n",
       " 'DimSalesTerritory',\n",
       " 'DimScenario',\n",
       " 'FactAdditionalInternationalProductDescription',\n",
       " 'FactCallCenter',\n",
       " 'FactCurrencyRate',\n",
       " 'FactFinance',\n",
       " 'FactInternetSales',\n",
       " 'FactInternetSalesReason',\n",
       " 'FactProductInventory',\n",
       " 'FactResellerSales',\n",
       " 'FactSalesQuota',\n",
       " 'FactSurveyResponse',\n",
       " 'NewFactCurrencyRate',\n",
       " 'ProspectiveBuyer',\n",
       " 'sysdiagrams']"
      ]
     },
     "execution_count": 4,
     "metadata": {},
     "output_type": "execute_result"
    }
   ],
   "source": [
    "# Com base na variável qtd, encontramos os nomes das tabelas\n",
    "cursor.execute(\"SELECT top (?) name FROM sys.tables;\",(qtd,))\n",
    "\n",
    "rows = cursor.fetchall()  # pegamos todos os resultados de uma vez\n",
    "\n",
    "# transformamos a lista de tuplas em lista simples só com os nomes\n",
    "table_names = [row[0] for row in rows]\n",
    "table_names\n"
   ]
  },
  {
   "cell_type": "markdown",
   "id": "b071cd9b",
   "metadata": {},
   "source": [
    "#### Criando um DataFrame com o resultado"
   ]
  },
  {
   "cell_type": "code",
   "execution_count": 5,
   "id": "f62ccdc0",
   "metadata": {},
   "outputs": [
    {
     "name": "stdout",
     "output_type": "stream",
     "text": [
      "DataFrame com as tabelas encontradas:\n"
     ]
    },
    {
     "data": {
      "text/html": [
       "<div>\n",
       "<style scoped>\n",
       "    .dataframe tbody tr th:only-of-type {\n",
       "        vertical-align: middle;\n",
       "    }\n",
       "\n",
       "    .dataframe tbody tr th {\n",
       "        vertical-align: top;\n",
       "    }\n",
       "\n",
       "    .dataframe thead th {\n",
       "        text-align: right;\n",
       "    }\n",
       "</style>\n",
       "<table border=\"1\" class=\"dataframe\">\n",
       "  <thead>\n",
       "    <tr style=\"text-align: right;\">\n",
       "      <th></th>\n",
       "      <th>Tabela</th>\n",
       "    </tr>\n",
       "  </thead>\n",
       "  <tbody>\n",
       "    <tr>\n",
       "      <th>1</th>\n",
       "      <td>DatabaseLog</td>\n",
       "    </tr>\n",
       "    <tr>\n",
       "      <th>2</th>\n",
       "      <td>AdventureWorksDWBuildVersion</td>\n",
       "    </tr>\n",
       "    <tr>\n",
       "      <th>3</th>\n",
       "      <td>DimAccount</td>\n",
       "    </tr>\n",
       "    <tr>\n",
       "      <th>4</th>\n",
       "      <td>DimCurrency</td>\n",
       "    </tr>\n",
       "    <tr>\n",
       "      <th>5</th>\n",
       "      <td>DimCustomer</td>\n",
       "    </tr>\n",
       "    <tr>\n",
       "      <th>6</th>\n",
       "      <td>DimDate</td>\n",
       "    </tr>\n",
       "    <tr>\n",
       "      <th>7</th>\n",
       "      <td>DimDepartmentGroup</td>\n",
       "    </tr>\n",
       "    <tr>\n",
       "      <th>8</th>\n",
       "      <td>DimEmployee</td>\n",
       "    </tr>\n",
       "    <tr>\n",
       "      <th>9</th>\n",
       "      <td>DimGeography</td>\n",
       "    </tr>\n",
       "    <tr>\n",
       "      <th>10</th>\n",
       "      <td>DimOrganization</td>\n",
       "    </tr>\n",
       "    <tr>\n",
       "      <th>11</th>\n",
       "      <td>DimProduct</td>\n",
       "    </tr>\n",
       "    <tr>\n",
       "      <th>12</th>\n",
       "      <td>DimProductCategory</td>\n",
       "    </tr>\n",
       "    <tr>\n",
       "      <th>13</th>\n",
       "      <td>DimProductSubcategory</td>\n",
       "    </tr>\n",
       "    <tr>\n",
       "      <th>14</th>\n",
       "      <td>DimPromotion</td>\n",
       "    </tr>\n",
       "    <tr>\n",
       "      <th>15</th>\n",
       "      <td>DimReseller</td>\n",
       "    </tr>\n",
       "    <tr>\n",
       "      <th>16</th>\n",
       "      <td>DimSalesReason</td>\n",
       "    </tr>\n",
       "    <tr>\n",
       "      <th>17</th>\n",
       "      <td>DimSalesTerritory</td>\n",
       "    </tr>\n",
       "    <tr>\n",
       "      <th>18</th>\n",
       "      <td>DimScenario</td>\n",
       "    </tr>\n",
       "    <tr>\n",
       "      <th>19</th>\n",
       "      <td>FactAdditionalInternationalProductDescription</td>\n",
       "    </tr>\n",
       "    <tr>\n",
       "      <th>20</th>\n",
       "      <td>FactCallCenter</td>\n",
       "    </tr>\n",
       "    <tr>\n",
       "      <th>21</th>\n",
       "      <td>FactCurrencyRate</td>\n",
       "    </tr>\n",
       "    <tr>\n",
       "      <th>22</th>\n",
       "      <td>FactFinance</td>\n",
       "    </tr>\n",
       "    <tr>\n",
       "      <th>23</th>\n",
       "      <td>FactInternetSales</td>\n",
       "    </tr>\n",
       "    <tr>\n",
       "      <th>24</th>\n",
       "      <td>FactInternetSalesReason</td>\n",
       "    </tr>\n",
       "    <tr>\n",
       "      <th>25</th>\n",
       "      <td>FactProductInventory</td>\n",
       "    </tr>\n",
       "    <tr>\n",
       "      <th>26</th>\n",
       "      <td>FactResellerSales</td>\n",
       "    </tr>\n",
       "    <tr>\n",
       "      <th>27</th>\n",
       "      <td>FactSalesQuota</td>\n",
       "    </tr>\n",
       "    <tr>\n",
       "      <th>28</th>\n",
       "      <td>FactSurveyResponse</td>\n",
       "    </tr>\n",
       "    <tr>\n",
       "      <th>29</th>\n",
       "      <td>NewFactCurrencyRate</td>\n",
       "    </tr>\n",
       "    <tr>\n",
       "      <th>30</th>\n",
       "      <td>ProspectiveBuyer</td>\n",
       "    </tr>\n",
       "    <tr>\n",
       "      <th>31</th>\n",
       "      <td>sysdiagrams</td>\n",
       "    </tr>\n",
       "  </tbody>\n",
       "</table>\n",
       "</div>"
      ],
      "text/plain": [
       "                                           Tabela\n",
       "1                                     DatabaseLog\n",
       "2                    AdventureWorksDWBuildVersion\n",
       "3                                      DimAccount\n",
       "4                                     DimCurrency\n",
       "5                                     DimCustomer\n",
       "6                                         DimDate\n",
       "7                              DimDepartmentGroup\n",
       "8                                     DimEmployee\n",
       "9                                    DimGeography\n",
       "10                                DimOrganization\n",
       "11                                     DimProduct\n",
       "12                             DimProductCategory\n",
       "13                          DimProductSubcategory\n",
       "14                                   DimPromotion\n",
       "15                                    DimReseller\n",
       "16                                 DimSalesReason\n",
       "17                              DimSalesTerritory\n",
       "18                                    DimScenario\n",
       "19  FactAdditionalInternationalProductDescription\n",
       "20                                 FactCallCenter\n",
       "21                               FactCurrencyRate\n",
       "22                                    FactFinance\n",
       "23                              FactInternetSales\n",
       "24                        FactInternetSalesReason\n",
       "25                           FactProductInventory\n",
       "26                              FactResellerSales\n",
       "27                                 FactSalesQuota\n",
       "28                             FactSurveyResponse\n",
       "29                            NewFactCurrencyRate\n",
       "30                               ProspectiveBuyer\n",
       "31                                    sysdiagrams"
      ]
     },
     "metadata": {},
     "output_type": "display_data"
    }
   ],
   "source": [
    "# cria DataFrame a partir da lista de tuplas\n",
    "df = pd.DataFrame(table_names, columns=[\"Tabela\"])\n",
    "\n",
    "# define índice começando em 1\n",
    "df.index = df.index + 1\n",
    "\n",
    "print(\"DataFrame com as tabelas encontradas:\")\n",
    "display(df)   # no Jupyter mostra formatado bonitinho"
   ]
  },
  {
   "cell_type": "markdown",
   "id": "63764b2e",
   "metadata": {},
   "source": [
    "#### Download de dados em TXT e Excel no mesmo diretório do script"
   ]
  },
  {
   "cell_type": "code",
   "execution_count": 6,
   "id": "826905d5",
   "metadata": {},
   "outputs": [
    {
     "name": "stdout",
     "output_type": "stream",
     "text": [
      "✅ Arquivo Excel gerado: tabelas_sqlserver.xlsx\n",
      "✅ Arquivo TXT gerado: tabelas_sqlserver.txt\n"
     ]
    }
   ],
   "source": [
    "# salva em Excel (XLSX) \n",
    "df.to_excel(\"tabelas_sqlserver.xlsx\", index=True)\n",
    "print(\"✅ Arquivo Excel gerado: tabelas_sqlserver.xlsx\")\n",
    "\n",
    "# salva em TXT separado por tabulação\n",
    "df.to_csv(\"tabelas_sqlserver.txt\", index=True, sep=\"\\t\")\n",
    "print(\"✅ Arquivo TXT gerado: tabelas_sqlserver.txt\")\n"
   ]
  }
 ],
 "metadata": {
  "kernelspec": {
   "display_name": "Python 3",
   "language": "python",
   "name": "python3"
  },
  "language_info": {
   "codemirror_mode": {
    "name": "ipython",
    "version": 3
   },
   "file_extension": ".py",
   "mimetype": "text/x-python",
   "name": "python",
   "nbconvert_exporter": "python",
   "pygments_lexer": "ipython3",
   "version": "3.11.9"
  }
 },
 "nbformat": 4,
 "nbformat_minor": 5
}
